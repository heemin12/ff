{
 "cells": [
  {
   "cell_type": "code",
   "execution_count": 6,
   "metadata": {},
   "outputs": [],
   "source": [
    "# Vehicle 클래스 정의\n",
    "class Vehicle:\n",
    "    # 클래스의 생성자 메서드\n",
    "    # 객체가 생성될 때 호출되며, 차량의 출발지(orig), 목적지(dest), 출발 시간(departure_time)을 매개변수로 받아 객체의 속성을 초기화\n",
    "    def __init__(self, orig, dest, dist, departure_time):\n",
    "        self.orig = orig  # 출발지 속성 초기화\n",
    "        self.dest = dest  # 목적지 속성 초기화\n",
    "        self.dist = dist  # 목적지 속성 초기화\n",
    "        self.departure_time = departure_time  # 출발 시간 속성 초기화 (시간)\n",
    "        self.arrival_time = -1  # 도착 시간 속성 초기화 (-1은 아직 도착하지 않았음을 의미)\n",
    "        self.travel_time = -1  # 여행 시간 속성 초기화 (-1은 아직 여행 중임을 의미)\n",
    "    \n",
    "    # 객체를 문자열로 표현하는 메서드\n",
    "    # 이 메서드를 정의하면 객체를 출력할 때 원하는 형식으로 표시할 수 있음\n",
    "    def __repr__(self):\n",
    "        return f\"<Vehicle: origin={self.orig}, destination={self.dest}, departure_time={self.departure_time}>\"\n",
    "    \n",
    "    # 차량의 여행이 종료될 때 호출되는 메서드\n",
    "    # 도착 시간을 계산하고 여행 시간을 출력\n",
    "    def end_trip(self):\n",
    "        self.travel_time = self.dist/100 # 여행 시간 계산, 100km/h로 주행한다고 가정\n",
    "        self.arrival_time = self.departure_time + self.travel_time  # 가상의 도착 시간 계산\n",
    "        \n",
    "        print(f\"Vehicle arrived at destination. Travel time: {self.travel_time} hours\")  # 도착 메시지 출력"
   ]
  },
  {
   "cell_type": "code",
   "execution_count": 7,
   "metadata": {},
   "outputs": [
    {
     "name": "stdout",
     "output_type": "stream",
     "text": [
      "<Vehicle: origin=Seoul, destination=Busan, departure_time=9>\n",
      "<Vehicle: origin=Seoul, destination=Daegu, departure_time=10>\n"
     ]
    }
   ],
   "source": [
    "# Vehicle 클래스의 인스턴스(객체) 생성\n",
    "vehicle1 = Vehicle(\"Seoul\", \"Busan\", 320, 9)  # 9시에 서울에서 부산으로 출발하는 차량 객체 생성\n",
    "vehicle2 = Vehicle(\"Seoul\", \"Daegu\", 237, 10)  # 10시에 서울에서 대구로 출발하는 차량 객체 생성\n",
    "\n",
    "# 차량 정보 출력\n",
    "print(vehicle1)  # vehicle1 객체의 정보 출력 (__repr__ 메서드에 정의된 형식으로 출력)\n",
    "print(vehicle2)  # vehicle2 객체의 정보 출력 (__repr__ 메서드에 정의된 형식으로 출력)"
   ]
  },
  {
   "cell_type": "code",
   "execution_count": 8,
   "metadata": {},
   "outputs": [
    {
     "data": {
      "text/plain": [
       "-1"
      ]
     },
     "execution_count": 8,
     "metadata": {},
     "output_type": "execute_result"
    }
   ],
   "source": [
    "vehicle1.travel_time"
   ]
  },
  {
   "cell_type": "code",
   "execution_count": 13,
   "metadata": {},
   "outputs": [
    {
     "name": "stdout",
     "output_type": "stream",
     "text": [
      "Vehicle arrived at destination. Travel time: 3.2 hours\n",
      "Vehicle arrived at destination. Travel time: 2.37 hours\n"
     ]
    }
   ],
   "source": [
    "# 차량 여행 종료 메서드 호출\n",
    "vehicle1.end_trip()  # vehicle1 객체의 end_trip 메서드 호출하여 여행 종료 처리\n",
    "vehicle2.end_trip()  # vehicle2 객체의 end_trip 메서드 호출하여 여행 종료 처리"
   ]
  },
  {
   "cell_type": "code",
   "execution_count": 14,
   "metadata": {},
   "outputs": [
    {
     "data": {
      "text/plain": [
       "3.2"
      ]
     },
     "execution_count": 14,
     "metadata": {},
     "output_type": "execute_result"
    }
   ],
   "source": [
    "vehicle1.travel_time"
   ]
  },
  {
   "cell_type": "markdown",
   "metadata": {},
   "source": [
    "Vehicle 1의 통행거리가 320이 아니라, 430이라고 합시다. \n",
    "이 때 Vehicle 1의 속성값을 업데이트 해보세요"
   ]
  },
  {
   "cell_type": "code",
   "execution_count": 16,
   "metadata": {},
   "outputs": [
    {
     "name": "stdout",
     "output_type": "stream",
     "text": [
      "Vehicle arrived at destination. Travel time: 4.3 hours\n"
     ]
    },
    {
     "data": {
      "text/plain": [
       "4.3"
      ]
     },
     "execution_count": 16,
     "metadata": {},
     "output_type": "execute_result"
    }
   ],
   "source": [
    "vehicle1.dist = 430\n",
    "vehicle1.end_trip() \n",
    "vehicle1.travel_time"
   ]
  },
  {
   "cell_type": "markdown",
   "metadata": {},
   "source": [
    "퀴즈 1: Vehicle 클래스에 'num_passengers' 속성을 추가하고, 생성자 메서드에서 이 속성을 초기화하는 코드를 작성해보세요. 그리고 차량 정보를 출력할 때 승객 수도 같이 출력되도록 __repr__ 메서드를 업데이트해보세요.\n"
   ]
  },
  {
   "cell_type": "markdown",
   "metadata": {},
   "source": [
    "\n",
    "퀴즈 2:\n",
    "Vehicle 클래스에 'add_passenger()' 메서드를 추가해보세요. 이 메서드는 차량에 승객이 추가로 1명 더 탑승합니다.\n",
    "\n"
   ]
  },
  {
   "cell_type": "markdown",
   "metadata": {},
   "source": []
  }
 ],
 "metadata": {
  "kernelspec": {
   "display_name": "base",
   "language": "python",
   "name": "python3"
  },
  "language_info": {
   "codemirror_mode": {
    "name": "ipython",
    "version": 3
   },
   "file_extension": ".py",
   "mimetype": "text/x-python",
   "name": "python",
   "nbconvert_exporter": "python",
   "pygments_lexer": "ipython3",
   "version": "3.12.2"
  }
 },
 "nbformat": 4,
 "nbformat_minor": 2
}
