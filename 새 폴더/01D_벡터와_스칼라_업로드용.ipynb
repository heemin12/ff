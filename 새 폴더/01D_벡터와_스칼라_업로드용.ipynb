{
 "cells": [
  {
   "cell_type": "markdown",
   "metadata": {},
   "source": [
    "## Python을 사용한 문제 풀이"
   ]
  },
  {
   "cell_type": "code",
   "execution_count": 2,
   "metadata": {},
   "outputs": [],
   "source": [
    "import numpy as np"
   ]
  },
  {
   "cell_type": "code",
   "execution_count": null,
   "metadata": {},
   "outputs": [
    {
     "name": "stdout",
     "output_type": "stream",
     "text": [
      "['STIXNonUnicode', 'DejaVu Sans Mono', 'STIXSizeThreeSym', 'DejaVu Serif', 'STIXSizeTwoSym', 'STIXNonUnicode', 'DejaVu Sans', 'cmss10', 'DejaVu Serif Display', 'STIXNonUnicode', 'cmr10', 'STIXSizeTwoSym', 'DejaVu Serif', 'STIXGeneral', 'STIXGeneral', 'cmb10', 'STIXSizeOneSym', 'DejaVu Serif', 'STIXSizeThreeSym', 'DejaVu Sans', 'DejaVu Sans Display', 'DejaVu Sans Mono', 'cmmi10', 'STIXSizeOneSym', 'STIXSizeFiveSym', 'STIXGeneral', 'STIXSizeFourSym', 'STIXGeneral', 'DejaVu Serif', 'cmsy10', 'cmtt10', 'DejaVu Sans Mono', 'DejaVu Sans Mono', 'STIXNonUnicode', 'STIXSizeFourSym', 'cmex10', 'DejaVu Sans', 'DejaVu Sans', 'Comic Sans MS', 'Showcard Gothic', 'RixMindure B', 'Mistral', 'Comic Sans MS', 'Segoe UI', 'Edwardian Script ITC', 'RixPrince', 'Segoe Print', 'Palatino Linotype', 'Ink Free', 'Magic R', 'RixCat', 'Symbol', 'Haan Wing2', 'Webdings', 'RixMarshmallow', 'Candara', 'RixButterfly B', 'HYPMokGak-Bold', 'Segoe UI', 'Microsoft Sans Serif', 'Comic Sans MS', 'Segoe UI', 'YDIYGO330', 'Agency FB', 'Gadugi', 'Comic Sans MS', 'Malgun Gothic', 'RixLimeorange L', 'RixRobot', 'Perpetua', 'HYGothic-Medium', 'NewJumja', 'Calisto MT', 'RixLoveAngel B', 'Noto Sans Korean', 'Franklin Gothic Demi', 'Cambria', 'Berlin Sans FB Demi', 'Book Antiqua', 'RixMGo M', 'RixMoon', 'RixJGo M', 'Chiller', 'Jokerman', 'Cambria', 'Garamond', 'Century Schoolbook', 'Yet R', 'RixLemonade L', 'Edwardian Script ITC', 'Microsoft Uighur', 'Sylfaen', 'Franklin Gothic Demi', 'RixPictureDiary M', 'RixMiniHeart', 'NanumBarunpen', 'Centaur', 'Georgia', 'Lucida Console', 'Eras Bold ITC', 'RixMelangcholly M', 'Noto Sans Korean', 'Rockwell', 'RixDiary L', 'Goudy Stout', 'Dubai', 'Constantia', 'Arial', 'Berlin Sans FB', 'RixMarshmallow', 'MV Boli', 'Arial', 'RixHead L', 'RixGoMaejum M', 'SimSun', 'Noto Sans Korean', 'Harlow Solid Italic', 'RixBlackBear', 'Microsoft PhagsPa', 'RixWonderLand B', 'HYGraphic-Medium', 'Californian FB', 'Microsoft YaHei', 'Bahnschrift', 'RixMoon', 'Haettenschweiler', 'RixSquirrel L', 'Webdings', 'Microsoft Yi Baiti', 'Book Antiqua', 'RixLimeorange M', 'Lucida Sans Typewriter', 'Segoe UI Historic', 'Juice ITC', 'Trebuchet MS', 'Freestyle Script', 'RixDictation M', 'RixSMj L', 'Tahoma', 'RixDog', 'NanumGothicCoding', 'RixMj EB', 'Sitka Small', 'Constantia', 'Sylfaen', 'MS Outlook', 'Candara', 'KakaoOTF Regular', 'Segoe UI', 'RixDearGiraffe M', 'RixMGo B', 'Algerian', 'Cambria', 'Segoe UI', 'Georgia', 'Han Santteut Dotum', 'Calisto MT', 'Microsoft JhengHei', 'Lucida Fax', 'Copperplate Gothic Light', 'Bookman Old Style', 'RixLoveAngel M', 'RixPrince', 'Goudy Old Style', 'Lucida Fax', 'Microsoft New Tai Lue', 'RixSweetChoco M', 'Magic R', 'RixEraserm M', 'Segoe Print', 'KoPubDotum', 'Nirmala UI', 'Century', 'KoPubDotum', 'RixHeart', 'Tahoma', 'MT Extra', 'Book Antiqua', 'RixMj EB', 'RixBG M', 'SimSun-ExtB', 'Palace Script MT', 'NanumMyeongjo Eco', 'Times New Roman', 'HCR Dotum Ext', 'RixFair', 'Elephant', 'Palace Script MT', 'Rockwell', 'Franklin Gothic Medium', 'RixCoffee M', 'RixMMj B', 'RixDiary B', 'Myanmar Text', 'Corbel', 'Arial', 'Juice ITC', 'Wide Latin', 'Franklin Gothic Heavy', 'Snap ITC', 'Franklin Gothic Medium Cond', 'Gill Sans MT Ext Condensed Bold', 'Microsoft YaHei', 'Segoe UI Emoji', 'Copperplate Gothic Bold', 'RixGrimm M', 'Verdana', 'Perpetua Titling MT', 'NanumSquare', 'Footlight MT Light', 'Arial', 'Bernard MT Condensed', 'RixFlower', 'RixCheetah', 'RixGo M', 'Cambria', 'Californian FB', 'RixIthing M', 'Century Gothic', 'Castellar', 'Dubai', 'RixJJangu L', 'Tw Cen MT', 'RixCupid', 'HYSinMyeongJo-Medium', 'RixMindure B', 'KakaoOTF Bold', 'Trebuchet MS', 'RixCatSofa M', 'HCR Batang ExtB', 'Rockwell Condensed', 'Arial', 'RixFantastic M', 'Tahoma', 'Engravers MT', 'RixDokdo', 'Gill Sans MT', 'Segoe Print', 'Goudy Old Style', 'Microsoft PhagsPa', 'Microsoft Himalaya', 'Microsoft JhengHei', 'RixPark 03', 'Arial Rounded MT Bold', 'Perpetua Titling MT', 'KoPubBatang Light', 'New Gulim', 'HCR Batang', 'Tw Cen MT Condensed', 'Noto Sans Korean', 'RixPark 02', 'NanumSquareRound', 'Javanese Text', 'Algerian', 'Franklin Gothic Heavy', 'RixWanso M', 'RixRobot', 'RixDiary M', 'NanumGothic', 'Tw Cen MT', 'Leelawadee', 'Courier New', 'Gulim', 'Mongolian Baiti', 'RixAfrica B', 'RixSMj L', 'MS Reference Sans Serif', 'Consolas', 'RixRobot', 'RixSweetChoco B', 'RixGureumpang M', 'RixLimeorange B', 'MS Reference Specialty', 'HCR Dotum Ext', 'Microsoft JhengHei', 'RixGoEB EB', 'Arial', 'Ravie', 'YDIYGO350', 'RixMarshmallow', 'Lucida Bright', 'Segoe UI', 'Agency FB', 'RixAfrica L', 'RixTapDance B', 'RixPolarBear', 'Tahoma', 'RixDdukbokki M', 'RixMagician', 'RixSMj M', 'Calisto MT', 'RixLizard', 'Informal Roman', 'HCR Batang Ext', 'Microsoft Yi Baiti', 'RixPrince', 'Ebrima', 'RixOctlove L', 'Segoe UI', 'Constantia', 'RixHeart', 'Trebuchet MS', 'Sitka Small', 'HYGraphic-Medium', 'Lucida Bright', 'RixLoveLetter', 'YDIYGO310', 'RixEraserm L', 'Footlight MT Light', 'Dubai', 'RixBrindledCow', 'Baskerville Old Face', 'RixCupid', 'Bookman Old Style', 'RixMoonjahalgge M', 'RixPrince', 'Franklin Gothic Book', 'RixPolarBear', 'Gill Sans MT', 'RixLoveAngel M', 'HCR Batang', 'Vivaldi', 'Segoe UI', 'Berlin Sans FB Demi', 'Georgia', 'Perpetua', 'HYGothic-Extra', 'YDIYGO350', 'Consolas', 'RixLoveAngel B', 'Courier New', 'Lucida Sans', 'RixHead B', 'Tw Cen MT', 'Dubai', 'Maiandra GD', 'Perpetua Titling MT', 'Perpetua', 'Century', 'Rix_Lemonade M', 'Monotype Corsiva', 'Verdana', 'Constantia', 'RixMagician', 'RixHead EB', 'Forte', 'RixFreshman B', 'Lucida Sans', 'Bell MT', 'Century Gothic', 'Lucida Sans', 'Tw Cen MT Condensed', 'Kunstler Script', 'NanumBarunGothic', 'RixJGo B', 'Gadugi', 'RixNoonmool M', 'Trebuchet MS', 'Bodoni MT', 'RixEraserg B', 'Wingdings', 'Perpetua', 'HyhwpEQ', 'Gill Sans MT', 'RixTapDance L', 'Eras Light ITC', 'Segoe UI', 'Centaur', 'Modern No. 20', 'Candara', 'RixDictation L', 'Parchment', 'Script MT Bold', 'Gigi', 'Corbel', 'RixCoffee B', 'Lucida Console', 'New Gulim', 'RixVita M', 'Gill Sans MT', 'Candara', 'SimSun', 'Lucida Fax', 'HoloLens MDL2 Assets', 'Verdana', 'Perpetua', 'Freestyle Script', 'HYGungSo-Bold', 'Times New Roman', 'RixJjimjilbangsonyu M', 'Candara', 'RixRobot', 'Californian FB', 'RixWanso M', 'Bodoni MT', 'RixMoon', 'RixSquirrel M', 'Microsoft YaHei', 'RixGamgijosimhae M', 'RixLemonade L', 'Tw Cen MT', 'Bauhaus 93', 'Calibri', 'Lucida Sans Typewriter', 'Old English Text MT', 'Ink Free', 'RixBGEB EB', 'RixCat', 'Vladimir Script', 'NanumSquare', 'HCR Dotum', 'Corbel', 'RixJGo M', 'Candara', 'Segoe UI', 'Harrington', 'NanumGothic Eco', 'RixJGo L', 'Curlz MT', 'Elephant', 'MT Extra', 'RixMj B', 'Arial', 'RixGrimm L', 'Calibri', 'Arial', 'RixGo B', 'KakaoOTF Light', 'Perpetua Titling MT', 'Lucida Fax', 'Lucida Bright', 'Franklin Gothic Medium', 'Gloucester MT Extra Condensed', 'Perpetua', 'NanumGothicCoding', 'Segoe UI', 'Century Schoolbook', 'Microsoft YaHei', 'RixFantastic B', 'Tw Cen MT Condensed', 'Headline R', 'Imprint MT Shadow', 'Segoe UI', 'YDIYGO320', 'Old English Text MT', 'Times New Roman', 'RixBG M', 'Segoe UI', 'Bodoni MT', 'Malgun Gothic', 'RixPig', 'Bradley Hand ITC', 'Poor Richard', 'Bodoni MT', 'Yu Gothic', 'Leelawadee UI', 'Segoe Script', 'Pristina', 'Magneto', 'Calibri', 'Lucida Sans Typewriter', 'Calisto MT', 'Lucida Bright', 'Franklin Gothic Medium', 'Playbill', 'RixLimeorange L', 'RixWonderLand L', 'RixEraserg M', 'KoPubBatang Bold', 'RixGiraffe', 'RixEggFri M', 'Lucida Sans Typewriter', 'RixGiraffe', 'RixSquirrel L', 'RixCheetah', 'YDIYGO340', 'Microsoft New Tai Lue', 'Lucida Sans', 'RixGoEB EB', 'Gloucester MT Extra Condensed', 'Wingdings 3', 'HYPost-Light', 'Tw Cen MT', 'Lucida Sans Typewriter', 'RixArtist M', 'Eras Medium ITC', 'Han Santteut Dotum', 'Onyx', 'Segoe UI', 'Berlin Sans FB', 'Gill Sans MT', 'Lucida Sans Unicode', 'Book Antiqua', 'RixMMj M', 'Papyrus', 'Bodoni MT', 'Bodoni MT', 'Arial', 'KoPubBatang Light', 'Verdana', 'Calisto MT', 'Perpetua', 'Colonna MT', 'Britannic Bold', 'Nirmala UI', 'Corbel', 'Bookman Old Style', 'Nirmala UI', 'Ebrima', 'NanumSquareRound', 'Garamond', 'RixLimeorange B', 'RixMiniHeart', 'UNAVAILABLE', 'RixHead B', 'Franklin Gothic Demi', 'Tw Cen MT Condensed Extra Bold', 'HYShortSamul-Medium', 'Gill Sans MT', 'Sitka Small', 'Gadugi', 'RixSimsimhae M', 'RixNoonmool M', 'RixSun', 'Tw Cen MT', 'KoPubDotum', 'RixEraserg M', 'KakaoOTF Bold', 'RixEraserm B', 'Ebrima', 'RixDalmatian', 'TtsNote', 'HYHeadLine-Medium', 'RixGo L', 'Century Gothic', 'Bookshelf Symbol 7', 'Papyrus', 'Century Schoolbook', 'Magneto', 'RixSun', 'Eras Light ITC', 'Trebuchet MS', 'Symbol', 'RixPierrot L', 'Matura MT Script Capitals', 'RixPierrot B', 'Eras Medium ITC', 'Gill Sans MT Ext Condensed Bold', 'Lucida Bright', 'Yu Gothic', 'Gill Sans Ultra Bold', 'Rage Italic', 'Trebuchet MS', 'RixGreenpapaya M', 'RixAfrica B', 'Segoe MDL2 Assets', 'Bodoni MT', 'Bell MT', 'Bodoni MT', 'RixMiniHeart', 'RixComingsoon M', 'RixLizard', 'RixCheetah', 'MS Reference Specialty', 'Cambria', 'RixButterfly M', 'RixCatSofa M', 'RixOctlove B', 'Yu Gothic', 'Lucida Sans Typewriter', 'Chiller', 'Nanum Pen Script', 'Microsoft Tai Le', 'Segoe MDL2 Assets', 'Bahnschrift', 'Consolas', 'RixMj M', 'Comic Sans MS', 'Palatino Linotype', 'Noto Sans Korean', 'Rockwell Extra Bold', 'RixComingsoon B', 'French Script MT', 'High Tower Text', 'RixEraserg L', 'Goudy Old Style', 'Lucida Bright', 'Rockwell', 'Tempus Sans ITC', 'Courier New', 'Lucida Calligraphy', 'RixPrincessLove M', 'Lucida Bright', 'RixCoffee B', 'RixMMj EB', 'Century Schoolbook', 'Californian FB', 'Showcard Gothic', 'RixTapDance L', 'NanumSquare', 'Consolas', 'HyhwpEQ', 'Microsoft New Tai Lue', 'Arial', 'MS Gothic', 'RixJJangu L', 'Gill Sans MT Condensed', 'HCR Batang ExtB', 'RixPark 02', 'Segoe Script', 'Segoe UI', 'HCR Dotum', 'Sitka Small', 'Gabriola', 'Dubai', 'Wide Latin', 'Stencil', 'Book Antiqua', 'Constantia', 'Lucida Fax', 'High Tower Text', 'Courier New', 'NanumBarunpen', 'Verdana', 'RixMMj EB', 'Vivaldi', 'RixDictation L', 'Microsoft YaHei', 'Yu Gothic', 'RixPig', 'Candara', 'Courier New', 'RixCat', 'Bradley Hand ITC', 'Brush Script MT', 'Arial', 'Palatino Linotype', 'RixOctlove B', 'Agency FB', 'Consolas', 'Lucida Sans Unicode', 'Segoe UI Symbol', 'KakaoOTF Regular', 'RixPark 03', 'RixHead L', 'RixEraserm L', 'RixDog', 'Malgun Gothic', 'Corbel', 'Gadugi', 'HCR Batang ExtB', 'RixPrince', 'Sitka Small', 'Curlz MT', 'Segoe UI', 'Franklin Gothic Medium', 'Monotype Corsiva', 'Microsoft New Tai Lue', 'Nanum Brush Script', 'Wingdings', 'HYSinMyeongJo-Medium', 'RixBlackBear', 'RixLemonade B', 'RixHead M', 'RixDokdo', 'Garamond', 'Leelawadee UI', 'Segoe UI', 'Courier New', 'Segoe Print', 'Segoe UI', 'Century Schoolbook', 'Goudy Old Style', 'Batang', 'Candara', 'RixGiraffe', 'RixTapDance M', 'RixLoveLetter', 'Consolas', 'Book Antiqua', 'MV Boli', 'RixWonderLand M', 'OCR A Extended', 'Courier New', 'Brush Script MT', 'NanumSquare_ac', 'Franklin Gothic Demi Cond', 'RixCat', 'HoloLens MDL2 Assets', 'OCR A Extended', 'RixCheetah', 'RixGrimm B', 'Malgun Gothic', 'RixEraserg L', 'RixGrimm B', 'Rix_Lemonade M', 'KakaoOTF Light', 'Eras Demi ITC', 'Impact', 'RixMGo B', 'Myanmar Text', 'Palatino Linotype', 'RixRobot', 'Pyunji R', 'YDIYGO340', 'Courier New', 'Times New Roman', 'Verdana', 'RixMiniHeart', 'RixGreenpapaya M', 'RixDictation B', 'Pyunji R', 'Microsoft Uighur', 'Agency FB', 'Gill Sans MT', 'Informal Roman', 'RixMj B', 'RixFair', 'Corbel', 'Kristen ITC', 'Segoe UI Emoji', 'RixFreshman B', 'RixCupid', 'Corbel', 'RixComingsoon M', 'Bauhaus 93', 'RixDictation B', 'Arial', 'Segoe UI', 'Californian FB', 'Tempus Sans ITC', 'Lucida Fax', 'Segoe UI', 'NanumSquare_ac', 'RixHead EB', 'RixFantastic L', 'Arial', 'RixLoveLetter', 'RixGo M', 'Segoe UI', 'RixOctlove M', 'French Script MT', 'Berlin Sans FB', 'KoPubDotum', 'UNAVAILABLE', 'Corbel', 'Atomy', 'RixJJangu B', 'RixDog', 'Headline R', 'Lucida Handwriting', 'Javanese Text', 'Segoe Script', 'Gill Sans Ultra Bold Condensed', 'YDIYGO360', 'Garamond', 'RixBG L', 'Comic Sans MS', 'Tw Cen MT', 'NanumMyeongjo', 'HYGothic-Extra', 'HCR Batang Ext', 'Noto Sans Korean', 'Goudy Old Style', 'RixLoveLetter', 'Segoe Script', 'Constantia', 'Arial Rounded MT Bold', 'Leelawadee UI', 'Lucida Bright', 'Leelawadee', 'NanumGothic', 'Californian FB', 'RixGureumpang M', 'RixDog', 'NanumGothic', 'Georgia', 'Corbel', 'Hancom Gothic', 'RixDdukbokki M', 'RixRobot', 'RixPig', 'Trebuchet MS', 'Haan Wing2', 'Gabriola', 'RixCupid', 'Mongolian Baiti', 'Engravers MT', 'RixEraserm M', 'Corbel', 'RixDearGiraffe M', 'RixAfrica M', 'RixPictureDiary M', 'RixCheetah', 'RixHead M', 'RixSweetChoco B', 'Candara', 'RixVita M', 'KoPubBatang Bold', 'Bodoni MT', 'RixSweetChoco L', 'RixComingsoon B', 'RixPark 01', 'Bodoni MT', 'Dubai', 'Vladimir Script', 'Imprint MT Shadow', 'RixBGEB EB', 'RixPierrot M', 'Calibri', 'Rockwell Condensed', 'Segoe UI', 'Yu Gothic', 'Georgia', 'Berlin Sans FB', 'MingLiU-ExtB', 'Marlett', 'RixPrince', 'Rockwell', 'Perpetua', 'RixMGo EB', 'Century Gothic', 'Script MT Bold', 'Calisto MT', 'RixIthing M', 'Eras Bold ITC', 'Mistral', 'Leelawadee UI', 'RixJJangu M', 'Ebrima', 'RixFreestyle M PRO', 'HYMyeongJo-Extra', 'Century Schoolbook', 'Lucida Fax', 'Palatino Linotype', 'RixWonderLand B', 'Century Schoolbook', 'Poor Richard', 'Ami R', 'RixLimeorange M', 'RixMiniHeart', 'RixMMj L', 'Rockwell Extra Bold', 'Tw Cen MT Condensed Extra Bold', 'Georgia', 'RixPig', 'RixFreshman L', 'Niagara Solid', 'RixDiary B', 'Ravie', 'RixCat', 'Tw Cen MT Condensed', 'Atomy', 'Candara', 'Bernard MT Condensed', 'Calibri', 'Blackadder ITC', 'Matura MT Script Capitals', 'Microsoft Uighur', 'RixGo B', 'RixMGo L', 'Felix Titling', 'Hancom Gothic', 'Cambria', 'HCR Dotum', 'Calibri', 'RixFlower', 'RixMoon', 'Times New Roman', 'RixDog', 'HYMyeongJo-Extra', 'Stencil', 'Times New Roman', 'HYPost-Light', 'RixFreshman M', 'Gill Sans Ultra Bold Condensed', 'RixStar&Me M', 'RixMindure M', 'Microsoft JhengHei', 'RixGoMaejum M', 'RixLizard', 'Arial', 'NanumBarunGothic', 'Ami R', 'Palatino Linotype', 'Copperplate Gothic Light', 'Maiandra GD', 'Eras Demi ITC', 'RixBG B', 'RixFreestyle M', 'RixFantastic L', 'Wingdings 2', 'Myanmar Text', 'Harrington', 'Modern No. 20', 'Rockwell Condensed', 'Franklin Gothic Heavy', 'Yu Gothic', 'Bodoni MT', 'KoPubBatang Medium', 'NanumBarunGothic YetHangul', 'Gigi', 'RixMindure M', 'RixGamgijosimhae M', 'RixMGo EB', 'Century Schoolbook', 'HYHeadLine-Medium', 'Calisto MT', 'RixBG L', 'NanumMyeongjo YetHangul', 'RixTapDance B', 'RixSweetChoco L', 'High Tower Text', 'RixHeart', 'RixCoffee L', 'Palatino Linotype', 'MoeumT R', 'RixTapDance M', 'Yet R', 'Arial', 'RixBG B', 'NewJumja', 'Viner Hand ITC', 'Colonna MT', 'Nirmala UI', 'Bodoni MT', 'RixPictureDiary B', 'HYPost-Medium', 'Bodoni MT', 'NanumSquare_ac', 'Bodoni MT', 'RixPierrot M', 'RixMiniHeart', 'Calibri', 'RixSimsimhae M', 'Times New Roman', 'NanumGothic', 'Harlow Solid Italic', 'Segoe UI Historic', 'RixSMj B', 'RixPinkRibbon M', 'HYGungSo-Bold', 'NanumSquareRound', 'Bell MT', 'Franklin Gothic Book', 'RixFreshman M', 'Viner Hand ITC', 'RixMindure L', 'Hancom Gothic', 'NanumSquare_ac', 'Goudy Old Style', 'Leelawadee UI', 'RixSMj M', 'Bookman Old Style', 'RixFantastic B', 'RixButterfly M', 'Constantia', 'Garamond', 'RixEraserg B', 'RixPierrot L', 'Microsoft PhagsPa', 'Arial', 'Corbel', 'Franklin Gothic Demi Cond', 'HCR Dotum', 'Microsoft Tai Le', 'Batang', 'Yu Gothic', 'Nirmala UI', 'Gill Sans MT Condensed', 'Leelawadee', 'RixHappyVirus M', 'Gulim', 'MS Gothic', 'Jokerman', 'RIXVKOREA', 'Lucida Sans', 'RixFreestyle M', 'Lucida Fax', 'RixLizard', 'Microsoft PhagsPa', 'RixGiraffe', 'YDIYGO330', 'Impact', 'Haettenschweiler', 'RixMarshmallow', 'Felix Titling', 'Rockwell', 'RixMelangcholly M', 'HCR Batang', 'Lucida Sans Typewriter', 'RixPolarBear', 'Microsoft YaHei', 'RixJGo L', 'Nirmala UI', 'KoPubDotum', 'Han Santteut Dotum', 'Playbill', 'Franklin Gothic Medium Cond', 'Niagara Solid', 'HancomEQN', 'RixAfrica L', 'RixEraserm B', 'Leelawadee', 'RIXVKOREA', 'RixArtist M', 'Microsoft Uighur', 'RixMindure L', 'RixRedsky M', 'Niagara Engraved', 'Book Antiqua', 'Forte', 'Pristina', 'RixPig', 'RixFantastic M', 'Leelawadee UI', 'HYShortSamul-Medium', 'Atomy', 'Palatino Linotype', 'Han Santteut Dotum', 'RixHappyVirus M', 'Consolas', 'Microsoft Himalaya', 'Cambria', 'RixOctlove L', 'Book Antiqua', 'Lucida Calligraphy', 'Onyx', 'RixFreestyle M PRO', 'YDIYGO360', 'RixMMj B', 'RixMMj L', 'Candara', 'RixHeart', 'Franklin Gothic Demi', 'Malgun Gothic', 'Cooper Black', 'Arial', 'HYPost-Medium', 'High Tower Text', 'Garamond', 'Rage Italic', 'Malgun Gothic', 'RixMarshmallow', 'Baskerville Old Face', 'Wingdings 3', 'Gill Sans Ultra Bold', 'RixLizard', 'Bookman Old Style', 'Century Gothic', 'YDIYGO340', 'Century Gothic', 'HCR Batang ExtB', 'Cooper Black', 'RixMGo L', 'RixDiary M', 'Verdana', 'Segoe UI Symbol', 'RixCheetah', 'Bookman Old Style', 'Bell MT', 'RixRedsky M', 'RixPig', 'Niagara Engraved', 'RixLoveAngel L', 'RixSweetChoco M', 'Consolas', 'RixPolarBear', 'NanumSquareRound', 'SimSun-ExtB', 'Times New Roman', 'Calibri', 'YDIYGO330', 'RixMj L', 'Lucida Handwriting', 'Century Gothic', 'Microsoft Tai Le', 'Blackadder ITC', 'Cambria', 'Kristen ITC', 'Franklin Gothic Book', 'Castellar', 'RixEggFri M', 'Segoe UI', 'RixJJangu M', 'RixGiraffe', 'RixPinkRibbon M', 'RixMarshmallow', 'RixWonderLand M', 'NanumBarunGothic', 'HYGothic-Medium', 'Sitka Small', 'Parchment', 'YDIYGO310', 'Georgia', 'RixDog', 'RixWonderLand L', 'Broadway', 'Georgia', 'RixPark 01', 'NanumMyeongjo', 'RixHeart', 'NanumMyeongjo', 'Microsoft Tai Le', 'NanumSquare', 'Tw Cen MT', 'NanumBarunGothic', 'Bodoni MT', 'MS Outlook', 'Rockwell', 'Gill Sans MT', 'Bodoni MT', 'Bodoni MT', 'RixGrimm M', 'Lucida Sans', 'Elephant', 'Bodoni MT', 'TtsNote', 'Verdana', 'RixDalmatian', 'Copperplate Gothic Bold', 'Arial', 'Bookshelf Symbol 7', 'Myanmar Text', 'RixJGo B', 'Dubai', 'Rockwell', 'Snap ITC', 'Calibri', 'Constantia', 'Candara', 'Dubai', 'RixDiary L', 'RixPrincessLove M', 'Microsoft JhengHei', 'Bookman Old Style', 'RixPierrot B', 'RixJJangu B', 'Hancom Gothic', 'Goudy Stout', 'Lucida Sans', 'RixLoveAngel L', 'Franklin Gothic Book', 'Microsoft JhengHei', 'RixStar&Me M', 'RixBrindledCow', 'Sitka Small', 'RixMMj M', 'Broadway', 'Yu Gothic', 'Corbel', 'Comic Sans MS', 'MS Reference Sans Serif', 'Bodoni MT', 'HCR Batang', 'RixMoon', 'RixCoffee M', 'MoeumT R', 'Calibri', 'RixLizard', 'Segoe UI', 'RixMoon', 'RixMGo M', 'Comic Sans MS', 'Britannic Bold', 'Calisto MT', 'Trebuchet MS', 'Microsoft Sans Serif', 'RixHeart', 'RixGo L', 'RixJjimjilbangsonyu M', 'Rockwell Condensed', 'RixCat', 'Kunstler Script', 'RixCoffee L', 'Bookman Old Style', 'Lucida Sans Typewriter', 'Calibri', 'RixPictureDiary B', 'Wingdings 2', 'Calibri', 'RixMj M', 'Century Gothic', 'RixDictation M', 'KoPubDotum', 'RixGrimm L', 'MingLiU-ExtB', 'RixOctlove M', 'Elephant', 'RixLemonade B', 'RixMoonjahalgge M', 'Franklin Gothic Heavy', 'Sitka Small', 'KoPubBatang Medium', 'Rockwell', 'RixAfrica M', 'RixFreshman L', 'RixGiraffe', 'YDIYGO320', 'RixSquirrel M', 'Bodoni MT', 'Bodoni MT', 'Bell MT', 'Bell MT', 'Lucida Sans', 'Bodoni MT', 'HYPMokGak-Bold', 'RixSMj B', 'HancomEQN', 'RixButterfly B', 'RixMj L']\n"
     ]
    }
   ],
   "source": [
    "import matplotlib.pyplot as plt\n",
    "import matplotlib as mpl\n",
    "\n",
    "# 가능한 font list 확인\n",
    "import matplotlib.font_manager as fm\n",
    "f = [f.name for f in fm.fontManager.ttflist]\n",
    "print(f)\n",
    "\n",
    "# 확인 이후\n",
    "plt.rc('font', family='Malgun Gothic')\n",
    "mpl.rcParams['axes.unicode_minus'] = False"
   ]
  },
  {
   "cell_type": "code",
   "execution_count": null,
   "metadata": {},
   "outputs": [
    {
     "data": {
      "text/plain": [
       "'\\n벡터는 크기와 방향을 가진 물리량입니다. \\n벡터는 숫자(스칼라)와 달리, 방향성을 가지고 있어 더 많은 정보를 담고 있습니다.\\n\\n예를 들어, 속도는 빠르기(크기)와 함께 방향도 가지고 있기 때문에 벡터입니다.\\n반면, 질량은 크기만 있고 방향은 없기 때문에 스칼라입니다.  \\n\\n벡터는 화살표로 표현하며, 시작점에서 끝점으로 향하는 방향을 가집니다.\\n'"
      ]
     },
     "execution_count": 6,
     "metadata": {},
     "output_type": "execute_result"
    }
   ],
   "source": [
    "# 벡터란?\n",
    "'''\n",
    "벡터는 크기와 방향을 가진 물리량입니다. \n",
    "벡터는 숫자(스칼라)와 달리, 방향성을 가지고 있어 더 많은 정보를 담고 있습니다.\n",
    "\n",
    "예를 들어, 속도는 빠르기(크기)와 함께 방향도 가지고 있기 때문에 벡터입니다.\n",
    "반면, 질량은 크기만 있고 방향은 없기 때문에 스칼라입니다.  \n",
    "\n",
    "벡터는 화살표로 표현하며, 시작점에서 끝점으로 향하는 방향을 가집니다.\n",
    "'''"
   ]
  },
  {
   "cell_type": "code",
   "execution_count": null,
   "metadata": {},
   "outputs": [
    {
     "ename": "NameError",
     "evalue": "name 'np' is not defined",
     "output_type": "error",
     "traceback": [
      "\u001b[1;31m---------------------------------------------------------------------------\u001b[0m",
      "\u001b[1;31mNameError\u001b[0m                                 Traceback (most recent call last)",
      "Cell \u001b[1;32mIn[8], line 1\u001b[0m\n\u001b[1;32m----> 1\u001b[0m v \u001b[38;5;241m=\u001b[39m \u001b[43mnp\u001b[49m\u001b[38;5;241m.\u001b[39marray([\u001b[38;5;241m3\u001b[39m, \u001b[38;5;241m1\u001b[39m])  \u001b[38;5;66;03m# 벡터 v\u001b[39;00m\n\u001b[0;32m      2\u001b[0m w \u001b[38;5;241m=\u001b[39m np\u001b[38;5;241m.\u001b[39marray([\u001b[38;5;241m2\u001b[39m, \u001b[38;5;241m4\u001b[39m])  \u001b[38;5;66;03m# 벡터 w\u001b[39;00m\n\u001b[0;32m      4\u001b[0m \u001b[38;5;66;03m# 벡터 v와 w 그리기\u001b[39;00m\n",
      "\u001b[1;31mNameError\u001b[0m: name 'np' is not defined"
     ]
    }
   ],
   "source": [
    "v = np.array([3, 1])  # 벡터 v\n",
    "w = np.array([2, 4])  # 벡터 w\n",
    "\n",
    "# 벡터 v와 w 그리기\n",
    "fig, ax = plt.subplots(figsize=(5, 5))\n",
    "\n",
    "# 벡터 v\n",
    "ax.quiver(0, 0, v[0], v[1], angles='xy', scale_units='xy', scale=1, color='b')\n",
    "ax.text(v[0], v[1], 'v', fontsize=14, color='b')\n",
    "\n",
    "# 벡터 w\n",
    "ax.quiver(0, 0, w[0], w[1], angles='xy', scale_units='xy', scale=1, color='r')\n",
    "ax.text(w[0], w[1], 'w', fontsize=14, color='r')\n",
    "\n",
    "ax.set_xlim(-1, 6)\n",
    "ax.set_ylim(-1, 6)\n",
    "ax.set_xlabel('x')\n",
    "ax.set_ylabel('y')\n",
    "ax.grid(True)\n",
    "ax.set_title('평면에서의 벡터', fontsize=14)\n",
    "plt.tight_layout()\n",
    "plt.show()\n"
   ]
  },
  {
   "cell_type": "code",
   "execution_count": null,
   "metadata": {},
   "outputs": [
    {
     "data": {
      "image/png": "[encoded data removed]",
      "text/plain": [
       "<Figure size 500x500 with 1 Axes>"
      ]
     },
     "metadata": {},
     "output_type": "display_data"
    }
   ],
   "source": [
    "# 예제 4: 단위벡터 x^와 y^ 그리기\n",
    "fig, ax = plt.subplots(figsize=(5, 5))\n",
    "\n",
    "ax.quiver(0, 0, 1, 0, angles='xy', scale_units='xy', scale=1, color='r', width=0.008, headwidth=6)\n",
    "ax.quiver(0, 0, 0, 1, angles='xy', scale_units='xy', scale=1, color='g', width=0.008, headwidth=6)\n",
    "ax.text(1.1, 0.1, '$\\hat{x}$', fontsize=16, color='r')\n",
    "ax.text(0.1, 1.1, '$\\hat{y}$', fontsize=16, color='g')\n",
    "\n",
    "ax.set_xlim(-1.5, 1.5)\n",
    "ax.set_ylim(-1.5, 1.5)\n",
    "ax.set_xlabel('x', fontsize=14)\n",
    "ax.set_ylabel('y', fontsize=14)\n",
    "ax.grid(True)\n",
    "ax.set_title('직각좌표계의 단위벡터', fontsize=16)\n",
    "ax.set_aspect('equal')\n",
    "\n",
    "plt.tight_layout()\n",
    "plt.show()"
   ]
  },
  {
   "cell_type": "markdown",
   "metadata": {},
   "source": [
    "1. 위치벡터의 각 축 성분 - 슬라이드 10p"
   ]
  },
  {
   "cell_type": "code",
   "execution_count": null,
   "metadata": {},
   "outputs": [
    {
     "data": {
      "text/plain": [
       "(-21.65, -12.5)"
      ]
     },
     "execution_count": 6,
     "metadata": {},
     "output_type": "execute_result"
    }
   ],
   "source": [
    "# 주어진 값\n",
    "r = 25.0 # 거리, 미터\n",
    "theta_degrees = 210 # 각도, 도\n",
    "\n",
    "# numpy를 사용해 각도를 라디안으로 변환하고 좌표 계산\n",
    "theta_radians = np.radians(theta_degrees)\n",
    "x = r * np.cos(theta_radians)\n",
    "y = r * np.sin(theta_radians)\n",
    "\n",
    "np.round(x,2), np.round(y,2)\n",
    "\n",
    "# 소숫점 셋째자리에서 반올림 \n"
   ]
  },
  {
   "cell_type": "markdown",
   "metadata": {},
   "source": [
    "2. 두 벡터의 덧셈 1 - 슬라이드 11p"
   ]
  },
  {
   "cell_type": "code",
   "execution_count": 4,
   "metadata": {},
   "outputs": [
    {
     "data": {
      "text/plain": [
       "(1.4142135623730951,\n",
       " 1.4142135623730951,\n",
       " -2.4072600926081935,\n",
       " 3.194542040189171,\n",
       " -0.9930465302350984,\n",
       " 4.608755602562266,\n",
       " 4.71452750711681)"
      ]
     },
     "execution_count": 4,
     "metadata": {},
     "output_type": "execute_result"
    }
   ],
   "source": [
    "# 벡터 a와 b의 크기 및 각도\n",
    "a_magnitude = 2.0  # meters\n",
    "b_magnitude = 4.0  # meters\n",
    "theta_a_degrees = 45  # degrees for vector a\n",
    "theta_b_degrees = 127  # degrees for vector b\n",
    "\n",
    "# 각도를 라디안으로 변환\n",
    "theta_a_radians = np.radians(theta_a_degrees)\n",
    "theta_b_radians = np.radians(theta_b_degrees)\n",
    "\n",
    "# 벡터 a의 x, y 성분 계산\n",
    "a_x = a_magnitude * np.cos(theta_a_radians)\n",
    "a_y = a_magnitude * np.sin(theta_a_radians)\n",
    "\n",
    "# 벡터 b의 x, y 성분 계산\n",
    "b_x = b_magnitude * np.cos(theta_b_radians)\n",
    "b_y = b_magnitude * np.sin(theta_b_radians)\n",
    "\n",
    "# 벡터 c의 x, y 성분 계산\n",
    "c_x = a_x + b_x\n",
    "c_y = a_y + b_y\n",
    "\n",
    "# 벡터 c의 크기 계산\n",
    "c_magnitude = np.sqrt(c_x**2 + c_y**2)\n",
    "\n",
    "# 결과 출력\n",
    "a_x, a_y, b_x, b_y, c_x, c_y, c_magnitude\n"
   ]
  },
  {
   "cell_type": "code",
   "execution_count": 5,
   "metadata": {},
   "outputs": [
    {
     "data": {
      "text/plain": [
       "4.71"
      ]
     },
     "execution_count": 5,
     "metadata": {},
     "output_type": "execute_result"
    }
   ],
   "source": [
    "# 벡터 c의 크기를 소수점 셋째자리에서 반올림\n",
    "c_magnitude_rounded = np.round(c_magnitude, 2)\n",
    "\n",
    "c_magnitude_rounded"
   ]
  },
  {
   "cell_type": "code",
   "execution_count": null,
   "metadata": {},
   "outputs": [
    {
     "ename": "SyntaxError",
     "evalue": "invalid syntax (1539183762.py, line 2)",
     "output_type": "error",
     "traceback": [
      "\u001b[1;36m  Cell \u001b[1;32mIn[13], line 2\u001b[1;36m\u001b[0m\n\u001b[1;33m    pip install numpy\u001b[0m\n\u001b[1;37m        ^\u001b[0m\n\u001b[1;31mSyntaxError\u001b[0m\u001b[1;31m:\u001b[0m invalid syntax\n"
     ]
    }
   ],
   "source": [
    "c_x, c_y\n",
    "pip install numpy"
   ]
  },
  {
   "cell_type": "markdown",
   "metadata": {},
   "source": [
    "3. 두 벡터의 덧셈 2 - 슬라이드 12p"
   ]
  },
  {
   "cell_type": "code",
   "execution_count": null,
   "metadata": {},
   "outputs": [
    {
     "data": {
      "text/plain": [
       "102.16"
      ]
     },
     "execution_count": 17,
     "metadata": {},
     "output_type": "execute_result"
    }
   ],
   "source": [
    "# 벡터의 각도(아크탄젠트)를 라디안으로 계산\n",
    "angle_radians = np.arctan2(c_y, c_x)\n",
    "\n",
    "# 라디안을 도로 변환\n",
    "angle_degrees = np.degrees(angle_radians)\n",
    "\n",
    "# 각도를 소숫점 셋째자리에서 반올림\n",
    "angle_degrees_rounded = np.round(angle_degrees, 2)\n",
    "\n",
    "angle_degrees_rounded"
   ]
  },
  {
   "cell_type": "markdown",
   "metadata": {},
   "source": [
    "4. 벡터의 덧셈과 뺄셈 1 - 슬라이드 13p"
   ]
  },
  {
   "cell_type": "code",
   "execution_count": null,
   "metadata": {},
   "outputs": [
    {
     "data": {
      "text/plain": [
       "array([-12,  13,  -2])"
      ]
     },
     "execution_count": 18,
     "metadata": {},
     "output_type": "execute_result"
    }
   ],
   "source": [
    "# 직접 풀어봅시다"
   ]
  },
  {
   "cell_type": "code",
   "execution_count": null,
   "metadata": {},
   "outputs": [
    {
     "data": {
      "text/plain": [
       "-3"
      ]
     },
     "execution_count": 27,
     "metadata": {},
     "output_type": "execute_result"
    }
   ],
   "source": [
    "# a벡터와 b벡터의 스칼라곱\n",
    "7*2 + 4*(-3) + (-1)*5\n",
    "np.sum(a*b)\n",
    "np.dot(a,b) # 스칼라곱"
   ]
  },
  {
   "cell_type": "code",
   "execution_count": null,
   "metadata": {},
   "outputs": [
    {
     "ename": "NameError",
     "evalue": "name 'np' is not defined",
     "output_type": "error",
     "traceback": [
      "\u001b[1;31m---------------------------------------------------------------------------\u001b[0m",
      "\u001b[1;31mNameError\u001b[0m                                 Traceback (most recent call last)",
      "Cell \u001b[1;32mIn[14], line 2\u001b[0m\n\u001b[0;32m      1\u001b[0m \u001b[38;5;66;03m# a 벡터의 크기?\u001b[39;00m\n\u001b[1;32m----> 2\u001b[0m \u001b[43mnp\u001b[49m\u001b[38;5;241m.\u001b[39msqrt(\u001b[38;5;241m7\u001b[39m\u001b[38;5;241m*\u001b[39m\u001b[38;5;241m*\u001b[39m\u001b[38;5;241m2\u001b[39m \u001b[38;5;241m+\u001b[39m \u001b[38;5;241m4\u001b[39m\u001b[38;5;241m*\u001b[39m\u001b[38;5;241m*\u001b[39m\u001b[38;5;241m2\u001b[39m \u001b[38;5;241m+\u001b[39m (\u001b[38;5;241m-\u001b[39m\u001b[38;5;241m1\u001b[39m) \u001b[38;5;241m*\u001b[39m\u001b[38;5;241m*\u001b[39m\u001b[38;5;241m2\u001b[39m)\n\u001b[0;32m      3\u001b[0m np\u001b[38;5;241m.\u001b[39msqrt(np\u001b[38;5;241m.\u001b[39msum(a\u001b[38;5;241m*\u001b[39m\u001b[38;5;241m*\u001b[39m\u001b[38;5;241m2\u001b[39m))\n",
      "\u001b[1;31mNameError\u001b[0m: name 'np' is not defined"
     ]
    }
   ],
   "source": [
    "# a 벡터의 크기?\n",
    "np.sqrt(7**2 + 4**2 + (-1) **2)\n",
    "np.sqrt(np.sum(a**2))"
   ]
  },
  {
   "cell_type": "code",
   "execution_count": null,
   "metadata": {},
   "outputs": [
    {
     "data": {
      "text/plain": [
       "array([ 17, -37, -29])"
      ]
     },
     "execution_count": 22,
     "metadata": {},
     "output_type": "execute_result"
    }
   ],
   "source": [
    "np.cross(a,b) # 벡터곱"
   ]
  },
  {
   "cell_type": "code",
   "execution_count": null,
   "metadata": {},
   "outputs": [
    {
     "data": {
      "text/plain": [
       "array([-5, -7,  6])"
      ]
     },
     "execution_count": 20,
     "metadata": {},
     "output_type": "execute_result"
    }
   ],
   "source": [
    "ab = b-a\n",
    "ab"
   ]
  },
  {
   "cell_type": "markdown",
   "metadata": {},
   "source": [
    "5. 두 벡터의 사잇각 계산 - 슬라이드 26p"
   ]
  },
  {
   "cell_type": "code",
   "execution_count": null,
   "metadata": {},
   "outputs": [
    {
     "ename": "ModuleNotFoundError",
     "evalue": "No module named 'numpy'",
     "output_type": "error",
     "traceback": [
      "\u001b[1;31m---------------------------------------------------------------------------\u001b[0m",
      "\u001b[1;31mModuleNotFoundError\u001b[0m                       Traceback (most recent call last)",
      "Cell \u001b[1;32mIn[21], line 1\u001b[0m\n\u001b[1;32m----> 1\u001b[0m \u001b[38;5;28;01mimport\u001b[39;00m \u001b[38;5;21;01mnumpy\u001b[39;00m \u001b[38;5;28;01mas\u001b[39;00m \u001b[38;5;21;01mnp\u001b[39;00m\n\u001b[0;32m      3\u001b[0m A\u001b[38;5;241m=\u001b[39mnp\u001b[38;5;241m.\u001b[39marray(\u001b[38;5;241m2\u001b[39m,\u001b[38;5;241m1\u001b[39m,\u001b[38;5;241m0\u001b[39m)\n\u001b[0;32m      4\u001b[0m B\u001b[38;5;241m=\u001b[39mnp\u001b[38;5;241m.\u001b[39marray(\u001b[38;5;241m0\u001b[39m,\u001b[38;5;241m1\u001b[39m,\u001b[38;5;241m-\u001b[39m\u001b[38;5;241m3\u001b[39m)\n",
      "\u001b[1;31mModuleNotFoundError\u001b[0m: No module named 'numpy'"
     ]
    }
   ],
   "source": [
    "import numpy as np\n",
    "\n",
    "A=np.array(2,1,0)\n",
    "B=np.array(0,1,-3)\n",
    "\n",
    "cross_product=np.cross(A,B)\n",
    "print(\"외적\",cross_product)"
   ]
  },
  {
   "cell_type": "markdown",
   "metadata": {},
   "source": [
    "6. 두 벡터의 곱 - 슬라이드 27p"
   ]
  },
  {
   "cell_type": "code",
   "execution_count": null,
   "metadata": {},
   "outputs": [
    {
     "data": {
      "text/plain": [
       "7.0"
      ]
     },
     "execution_count": 32,
     "metadata": {},
     "output_type": "execute_result"
    }
   ],
   "source": [
    "# 직접 풀어봅시다"
   ]
  },
  {
   "cell_type": "markdown",
   "metadata": {},
   "source": [
    "7. 삼각형의 넓이 - 슬라이드 28p"
   ]
  },
  {
   "cell_type": "code",
   "execution_count": null,
   "metadata": {},
   "outputs": [
    {
     "data": {
      "text/plain": [
       "6.71"
      ]
     },
     "execution_count": 34,
     "metadata": {},
     "output_type": "execute_result"
    }
   ],
   "source": [
    "# 직접 풀어봅시다\n",
    "# 점 P, Q, R의 좌표\n",
    "P = np.array([1, 3, 2])\n",
    "Q = np.array([2, 0, 0])\n",
    "R = np.array([0, 0, 4])\n",
    "\n",
    "# 벡터 PQ와 PR 계산\n",
    "PQ = Q - P\n",
    "PR = R - P\n",
    "\n",
    "# 벡터 PQ와 PR의 외적 계산\n",
    "cross_product = np.cross(PQ, PR)\n",
    "\n",
    "# 외적 벡터의 크기 계산\n",
    "cross_product_magnitude = np.sqrt(np.sum(cross_product**2))\n",
    "\n",
    "# 삼각형의 넓이는 외적 벡터의 크기의 절반\n",
    "triangle_area = cross_product_magnitude / 2\n",
    "np.round(triangle_area,2)\n"
   ]
  },
  {
   "cell_type": "markdown",
   "metadata": {},
   "source": [
    "8. 두 벡터가 수직일 조건 - 슬라이드 30p\n",
    "\n",
    "`sympy` 패키지를 사용해 연립방정식을 아래와 같이 풀 수 있음  \n",
    "하지만 오히려 시간이 오래 걸릴 수 있으므로, 연습장에 직접 푸는걸 추천함"
   ]
  },
  {
   "cell_type": "code",
   "execution_count": 1,
   "metadata": {},
   "outputs": [
    {
     "ename": "ModuleNotFoundError",
     "evalue": "No module named 'sympy'",
     "output_type": "error",
     "traceback": [
      "\u001b[1;31m---------------------------------------------------------------------------\u001b[0m",
      "\u001b[1;31mModuleNotFoundError\u001b[0m                       Traceback (most recent call last)",
      "Cell \u001b[1;32mIn[1], line 1\u001b[0m\n\u001b[1;32m----> 1\u001b[0m \u001b[38;5;28;01mfrom\u001b[39;00m \u001b[38;5;21;01msympy\u001b[39;00m \u001b[38;5;28;01mimport\u001b[39;00m symbols, Eq, solve\n\u001b[0;32m      3\u001b[0m \u001b[38;5;66;03m# 심볼 변수 정의\u001b[39;00m\n\u001b[0;32m      4\u001b[0m b_x, b_y \u001b[38;5;241m=\u001b[39m symbols(\u001b[38;5;124m'\u001b[39m\u001b[38;5;124mb_x b_y\u001b[39m\u001b[38;5;124m'\u001b[39m)\n",
      "\u001b[1;31mModuleNotFoundError\u001b[0m: No module named 'sympy'"
     ]
    }
   ],
   "source": [
    "from sympy import symbols, Eq, solve\n",
    "\n",
    "# 심볼 변수 정의\n",
    "b_x, b_y = symbols('b_x b_y')\n",
    "\n",
    "# 주어진 조건을 바탕으로 방정식 설정\n",
    "eq1 = Eq(3 * b_x - 4 * b_y, 0)  # a와 b가 수직이므로 a·b = 0\n",
    "eq2 = Eq(b_x**2 + b_y**2, 1)    # b는 단위벡터이므로 b의 크기의 제곱은 1\n",
    "\n",
    "# 연립방정식 풀이\n",
    "solution = solve((eq1, eq2), (b_x, b_y))\n",
    "solution\n"
   ]
  },
  {
   "cell_type": "markdown",
   "metadata": {},
   "source": [
    "9. 두 벡터에 수직인 벡터 "
   ]
  },
  {
   "cell_type": "code",
   "execution_count": null,
   "metadata": {},
   "outputs": [],
   "source": [
    "# 벡터 a와 b를 정의\n",
    "a = np.array([1, 1, 0])\n",
    "b = np.array([0, 1, -1])\n",
    "\n",
    "# 주어진 벡터들 정의\n",
    "v1 = np.array([1, 1, 1])\n",
    "v2 = np.array([1, -1, 1])\n",
    "v3 = np.array([1, -1, -1])\n",
    "v4 = np.array([1, 1, -1])\n",
    "\n",
    "# 벡터 a와 b와 각 주어진 벡터들의 내적을 계산하여 두 벡터 모두에 수직인지 확인\n",
    "dot_product_a_v1 = np.dot(a, v1)\n",
    "dot_product_a_v2 = np.dot(a, v2)\n",
    "dot_product_a_v3 = np.dot(a, v3)\n",
    "dot_product_a_v4 = np.dot(a, v4)\n",
    "\n",
    "dot_product_b_v1 = np.dot(b, v1)\n",
    "dot_product_b_v2 = np.dot(b, v2)\n",
    "dot_product_b_v3 = np.dot(b, v3)\n",
    "dot_product_b_v4 = np.dot(b, v4)"
   ]
  },
  {
   "cell_type": "code",
   "execution_count": null,
   "metadata": {},
   "outputs": [
    {
     "data": {
      "text/plain": [
       "(2, 0)"
      ]
     },
     "execution_count": 38,
     "metadata": {},
     "output_type": "execute_result"
    }
   ],
   "source": [
    "dot_product_a_v1, dot_product_b_v1"
   ]
  },
  {
   "cell_type": "code",
   "execution_count": null,
   "metadata": {},
   "outputs": [
    {
     "data": {
      "text/plain": [
       "(0, -2)"
      ]
     },
     "execution_count": 39,
     "metadata": {},
     "output_type": "execute_result"
    }
   ],
   "source": [
    "dot_product_a_v2, dot_product_b_v2"
   ]
  },
  {
   "cell_type": "code",
   "execution_count": null,
   "metadata": {},
   "outputs": [
    {
     "data": {
      "text/plain": [
       "(0, 0)"
      ]
     },
     "execution_count": 40,
     "metadata": {},
     "output_type": "execute_result"
    }
   ],
   "source": [
    "dot_product_a_v3, dot_product_b_v3"
   ]
  },
  {
   "cell_type": "code",
   "execution_count": null,
   "metadata": {},
   "outputs": [
    {
     "data": {
      "text/plain": [
       "(2, 2)"
      ]
     },
     "execution_count": 41,
     "metadata": {},
     "output_type": "execute_result"
    }
   ],
   "source": [
    "dot_product_a_v4, dot_product_b_v4"
   ]
  },
  {
   "cell_type": "code",
   "execution_count": null,
   "metadata": {},
   "outputs": [],
   "source": [
    "# 한글로 출력하기 위한 f-string 함수 개선\n",
    "def check_perpendicular(dot_product_a, dot_product_b, vector_name):\n",
    "    perpendicular_a = '수직입니다' if dot_product_a == 0 else '수직이 아닙니다'\n",
    "    perpendicular_b = '수직입니다' if dot_product_b == 0 else '수직이 아닙니다'\n",
    "    return f\"{vector_name} 벡터는 a에 대해 {perpendicular_a}, b에 대해 {perpendicular_b}.\""
   ]
  },
  {
   "cell_type": "code",
   "execution_count": 1,
   "metadata": {},
   "outputs": [
    {
     "ename": "NameError",
     "evalue": "name 'check_perpendicular' is not defined",
     "output_type": "error",
     "traceback": [
      "\u001b[1;31m---------------------------------------------------------------------------\u001b[0m",
      "\u001b[1;31mNameError\u001b[0m                                 Traceback (most recent call last)",
      "Cell \u001b[1;32mIn[1], line 2\u001b[0m\n\u001b[0;32m      1\u001b[0m \u001b[38;5;66;03m# 각 벡터가 a, b와 수직인지 여부 확인\u001b[39;00m\n\u001b[1;32m----> 2\u001b[0m v1_status_korean_sep \u001b[38;5;241m=\u001b[39m \u001b[43mcheck_perpendicular\u001b[49m(dot_product_a_v1, dot_product_b_v1, \u001b[38;5;124m'\u001b[39m\u001b[38;5;124mv1\u001b[39m\u001b[38;5;124m'\u001b[39m)\n\u001b[0;32m      3\u001b[0m v2_status_korean_sep \u001b[38;5;241m=\u001b[39m check_perpendicular(dot_product_a_v2, dot_product_b_v2, \u001b[38;5;124m'\u001b[39m\u001b[38;5;124mv2\u001b[39m\u001b[38;5;124m'\u001b[39m)\n\u001b[0;32m      4\u001b[0m v3_status_korean_sep \u001b[38;5;241m=\u001b[39m check_perpendicular(dot_product_a_v3, dot_product_b_v3, \u001b[38;5;124m'\u001b[39m\u001b[38;5;124mv3\u001b[39m\u001b[38;5;124m'\u001b[39m)\n",
      "\u001b[1;31mNameError\u001b[0m: name 'check_perpendicular' is not defined"
     ]
    }
   ],
   "source": [
    "# 각 벡터가 a, b와 수직인지 여부 확인\n",
    "v1_status_korean_sep = check_perpendicular(dot_product_a_v1, dot_product_b_v1, 'v1')\n",
    "v2_status_korean_sep = check_perpendicular(dot_product_a_v2, dot_product_b_v2, 'v2')\n",
    "v3_status_korean_sep = check_perpendicular(dot_product_a_v3, dot_product_b_v3, 'v3')\n",
    "v4_status_korean_sep = check_perpendicular(dot_product_a_v4, dot_product_b_v4, 'v4')\n",
    "\n",
    "v1_status_korean_sep, v2_status_korean_sep, v3_status_korean_sep, v4_status_korean_sep"
   ]
  },
  {
   "cell_type": "code",
   "execution_count": null,
   "metadata": {},
   "outputs": [
    {
     "data": {
      "text/plain": [
       "(array([ 0, -2,  2]), array([-2, -2,  0]), array([0, 0, 0]), array([2, 0, 2]))"
      ]
     },
     "execution_count": 45,
     "metadata": {},
     "output_type": "execute_result"
    }
   ],
   "source": [
    "# 벡터 a와 b를 정의\n",
    "a = np.array([1, 1, 0])\n",
    "b = np.array([0, 1, -1])\n",
    "\n",
    "# 벡터 a와 b의 외적(벡터곱) 계산 >> a,b 벡터에 수직인 벡터 \n",
    "cross_product = np.cross(a, b)\n",
    "\n",
    "# 주어진 벡터들 정의\n",
    "v1 = np.array([1, 1, 1])\n",
    "v2 = np.array([1, -1, 1])\n",
    "v3 = np.array([1, -1, -1])\n",
    "v4 = np.array([1, 1, -1])\n",
    "\n",
    "# a,b벡터에 수직인 벡터와 v1, v2, v3, v4 사이의 외적 계산\n",
    "cross_product_v1 = np.cross(v1, cross_product)\n",
    "cross_product_v2 = np.cross(v2, cross_product)\n",
    "cross_product_v3 = np.cross(v3, cross_product)\n",
    "cross_product_v4 = np.cross(v4, cross_product)\n",
    "\n",
    "# 각 벡터와 평면의 법선 벡터의 외적 결과를 반환합니다. 이 결과는 각 벡터가 평면에 수직이면 0 벡터를 반환할 것입니다.\n",
    "cross_product_v1, cross_product_v2, cross_product_v3, cross_product_v4"
   ]
  },
  {
   "cell_type": "markdown",
   "metadata": {},
   "source": [
    "### Quiz\n",
    "\n",
    "위의 연습문제들을 숫자를 바꾸거나, 응용을 해서 연습을 해봅시다. \n",
    "두 벡터의 덧셈, 뺄셈이 아니라 벡터가 3개 이상이 나오는 복잡한 연산도 Python을 활용하면 쉽게 표현할 수 있습니다."
   ]
  },
  {
   "cell_type": "markdown",
   "metadata": {},
   "source": [
    "### 부록 Class를 활용해보기\n",
    "\n",
    "이전에 배웠던 Class를 활용하면 보다 간결하게 두 벡터 사이의 연산을 수행할 수 있습니다.  "
   ]
  },
  {
   "cell_type": "code",
   "execution_count": null,
   "metadata": {},
   "outputs": [],
   "source": [
    "class VectorOperations:\n",
    "    def __init__(self, vector_a, vector_b):\n",
    "        self.vector_a = np.array(vector_a)\n",
    "        self.vector_b = np.array(vector_b)\n",
    "        \n",
    "    def dot_product(self):\n",
    "        return np.dot(self.vector_a, self.vector_b)\n",
    "    \n",
    "    def cross_product(self):\n",
    "        return np.cross(self.vector_a, self.vector_b)\n",
    "    \n",
    "    def magnitude(self, vector):\n",
    "        return np.sqrt(np.sum(vector**2))\n",
    "    \n",
    "    def angle_between(self):\n",
    "        dot_prod = self.dot_product()\n",
    "        magnitude_a = self.magnitude(self.vector_a)\n",
    "        magnitude_b = self.magnitude(self.vector_b)\n",
    "        cos_theta = dot_prod / (magnitude_a * magnitude_b)\n",
    "        angle_radians = np.arccos(np.clip(cos_theta, -1.0, 1.0))  # Clip for stability\n",
    "        angle_degrees = np.degrees(angle_radians)\n",
    "        return angle_degrees\n",
    "    \n",
    "    def get_magnitudes(self):\n",
    "        return self.magnitude(self.vector_a), self.magnitude(self.vector_b)"
   ]
  },
  {
   "cell_type": "code",
   "execution_count": null,
   "metadata": {},
   "outputs": [
    {
     "data": {
      "text/plain": [
       "7.0"
      ]
     },
     "execution_count": 79,
     "metadata": {},
     "output_type": "execute_result"
    }
   ],
   "source": [
    "# Example usage: 슬라이드 27p 문제\n",
    "\n",
    "vec_ops_27 = VectorOperations([2, 1, 0], [0, 1, -3])\n",
    "vec_ops_27.cross_product_value = vec_ops_27.cross_product()\n",
    "vec_ops_27.magnitude(vec_ops_27.cross_product_value)\n"
   ]
  },
  {
   "cell_type": "code",
   "execution_count": null,
   "metadata": {},
   "outputs": [
    {
     "data": {
      "text/plain": [
       "60.00000000000001"
      ]
     },
     "execution_count": 80,
     "metadata": {},
     "output_type": "execute_result"
    }
   ],
   "source": [
    "# Example usage: 슬라이드 26p\n",
    "vec_ops_26 = VectorOperations([1, 1, 0], [0, 1, -1])\n",
    "vec_ops_26.angle_between()"
   ]
  }
 ],
 "metadata": {
  "kernelspec": {
   "display_name": "base",
   "language": "python",
   "name": "python3"
  },
  "language_info": {
   "codemirror_mode": {
    "name": "ipython",
    "version": 3
   },
   "file_extension": ".py",
   "mimetype": "text/x-python",
   "name": "python",
   "nbconvert_exporter": "python",
   "pygments_lexer": "ipython3",
   "version": "3.12.2"
  }
 },
 "nbformat": 4,
 "nbformat_minor": 2
}
